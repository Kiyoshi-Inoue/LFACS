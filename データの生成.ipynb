{
 "cells": [
  {
   "cell_type": "code",
   "execution_count": 41,
   "id": "a53e39f4-3f49-4af5-9f5c-5b9049e929e7",
   "metadata": {},
   "outputs": [],
   "source": [
    "%matplotlib inline\n",
    "import numpy as np\n",
    "import pandas as pd\n",
    "import matplotlib.pyplot as plt\n",
    "from sklearn.datasets import make_blobs\n",
    "from keras.utils import np_utils \n",
    "import tqdm\n",
    "from sklearn.utils import check_array, check_random_state\n",
    "from sklearn.utils import shuffle"
   ]
  },
  {
   "cell_type": "code",
   "execution_count": 32,
   "id": "ae5033f7-cf41-4f49-90d9-dc5db0c9288d",
   "metadata": {},
   "outputs": [],
   "source": [
    "n_samples_per_center=[30,30,30] #クラスターのそれぞれのデータ数\n",
    "n_features=2\n",
    "clust_number=3 #クラスターの数\n",
    "center_box=(-10,10)"
   ]
  },
  {
   "cell_type": "code",
   "execution_count": 48,
   "id": "b20a2fea-b2c2-453c-b963-866c855a8b4e",
   "metadata": {},
   "outputs": [],
   "source": [
    "#centers=generator.uniform(center_box[0],center_box[1],size=(clust_number,n_features)) #(クラスターの中心の範囲,size(クラスターの中心数，特徴量))\n",
    "centers=np.array([[-7.5,-7.5],[7.5,7.5],[9,-7.5]])"
   ]
  },
  {
   "cell_type": "code",
   "execution_count": 50,
   "id": "f1800fc6-e261-4480-8f62-03ad47887e98",
   "metadata": {},
   "outputs": [],
   "source": [
    "#cluster_std=np.full(len(centers),1.0) #(クラスターの中心数,クラスター内標準偏差)\n",
    "cluster_std=np.array([0.1,0.5,1.0])"
   ]
  },
  {
   "cell_type": "code",
   "execution_count": 51,
   "id": "21736309-9652-4455-a759-1ccd09d232ba",
   "metadata": {},
   "outputs": [
    {
     "data": {
      "text/plain": [
       "array([30, 60, 90])"
      ]
     },
     "execution_count": 51,
     "metadata": {},
     "output_type": "execute_result"
    }
   ],
   "source": [
    "cum_sum_n_samples = np.cumsum(n_samples_per_center) #累積和の配列を作る\n",
    "cum_sum_n_samples"
   ]
  },
  {
   "cell_type": "code",
   "execution_count": 52,
   "id": "6cc46eb1-ae92-46dc-86df-05d06906b61e",
   "metadata": {},
   "outputs": [],
   "source": [
    "X = np.empty(shape=(sum(n_samples_per_center), n_features), dtype=np.float64)\n",
    "y = np.empty(shape=(sum(n_samples_per_center),), dtype=int)"
   ]
  },
  {
   "cell_type": "code",
   "execution_count": 53,
   "id": "07f12513-d27a-4d67-8ccc-d7a8e2c899ce",
   "metadata": {},
   "outputs": [],
   "source": [
    "for i, (n, std) in enumerate(zip(n_samples_per_center, cluster_std)):\n",
    "        start_idx = cum_sum_n_samples[i - 1] if i > 0 else 0\n",
    "        end_idx = cum_sum_n_samples[i]\n",
    "        X[start_idx:end_idx] = generator.normal(\n",
    "            loc=centers[i], scale=std, size=(n, n_features)\n",
    "        )\n",
    "        y[start_idx:end_idx] = i\n"
   ]
  },
  {
   "cell_type": "code",
   "execution_count": 54,
   "id": "dbb6e9eb-31b8-493c-92fe-d2e4c72fe137",
   "metadata": {},
   "outputs": [],
   "source": [
    "X, y = shuffle(X, y, random_state=generator)"
   ]
  },
  {
   "cell_type": "code",
   "execution_count": 55,
   "id": "c4323b34-96e2-4d47-a064-6552c15656e8",
   "metadata": {},
   "outputs": [
    {
     "data": {
      "text/plain": [
       "Text(0, 0.5, 'Feature 2')"
      ]
     },
     "execution_count": 55,
     "metadata": {},
     "output_type": "execute_result"
    },
    {
     "data": {
      "image/png": "[encoded data removed]",
      "text/plain": [
       "<Figure size 576x504 with 1 Axes>"
      ]
     },
     "metadata": {
      "needs_background": "light"
     },
     "output_type": "display_data"
    }
   ],
   "source": [
    "plt.figure(figsize=(8, 7))\n",
    "plt.scatter(X[:,0], X[:,1], marker='o', c=y, s=25, edgecolor='k')\n",
    "plt.xlabel(\"Feature 1\")\n",
    "plt.ylabel(\"Feature 2\")"
   ]
  },
  {
   "cell_type": "code",
   "execution_count": 56,
   "id": "2f098ec0-ec98-4137-b4cb-3002d7f1e7c3",
   "metadata": {},
   "outputs": [
    {
     "data": {
      "text/plain": [
       "array([[-7.5, -7.5],\n",
       "       [ 7.5,  7.5],\n",
       "       [ 9. , -7.5]])"
      ]
     },
     "execution_count": 56,
     "metadata": {},
     "output_type": "execute_result"
    }
   ],
   "source": [
    "centers"
   ]
  },
  {
   "cell_type": "code",
   "execution_count": null,
   "id": "f21f6722-ea2d-442b-a031-ccc1f434abde",
   "metadata": {},
   "outputs": [],
   "source": []
  }
 ],
 "metadata": {
  "kernelspec": {
   "display_name": "Python 3",
   "language": "python",
   "name": "python3"
  },
  "language_info": {
   "codemirror_mode": {
    "name": "ipython",
    "version": 3
   },
   "file_extension": ".py",
   "mimetype": "text/x-python",
   "name": "python",
   "nbconvert_exporter": "python",
   "pygments_lexer": "ipython3",
   "version": "3.8.8"
  }
 },
 "nbformat": 4,
 "nbformat_minor": 5
}
